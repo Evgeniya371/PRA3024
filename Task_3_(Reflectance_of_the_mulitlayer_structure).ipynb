{
  "nbformat": 4,
  "nbformat_minor": 0,
  "metadata": {
    "colab": {
      "provenance": [],
      "include_colab_link": true
    },
    "kernelspec": {
      "name": "python3",
      "display_name": "Python 3"
    }
  },
  "cells": [
    {
      "cell_type": "markdown",
      "metadata": {
        "id": "view-in-github",
        "colab_type": "text"
      },
      "source": [
        "<a href=\"https://colab.research.google.com/github/Evgeniya371/PRA3024/blob/main/Task_3_(Reflectance_of_the_mulitlayer_structure).ipynb\" target=\"_parent\"><img src=\"https://colab.research.google.com/assets/colab-badge.svg\" alt=\"Open In Colab\"/></a>"
      ]
    },
    {
      "cell_type": "markdown",
      "source": [
        "# <font color='orange'> Task 3\n"
      ],
      "metadata": {
        "id": "vgbbFl7xwhd5"
      }
    },
    {
      "cell_type": "markdown",
      "source": [
        "###Run each cell below one by one, read the annotations"
      ],
      "metadata": {
        "id": "Py-bbtopw-FZ"
      }
    },
    {
      "cell_type": "markdown",
      "source": [
        "\n",
        "\n",
        "*   Run this cell\n",
        "\n",
        "*   The first two lines can be commented once you run the cell (spicy and pandas packages will be already imported into the environment)\n",
        "\n",
        "\n",
        "\n",
        "\n"
      ],
      "metadata": {
        "id": "CagjarUQWllN"
      }
    },
    {
      "cell_type": "code",
      "source": [
        "# This cell imports all important packages\n",
        "\n",
        "#!pip install scipy\n",
        "#!pip install pandas\n",
        "import math\n",
        "import matplotlib.pyplot as plt\n",
        "import numpy as np\n",
        "import pandas as pd\n",
        "import matplotlib"
      ],
      "metadata": {
        "id": "_mEfsgkff35W"
      },
      "execution_count": 17,
      "outputs": []
    },
    {
      "cell_type": "markdown",
      "source": [
        "# Functions\n"
      ],
      "metadata": {
        "id": "0HdcBRnmC-Qg"
      }
    },
    {
      "cell_type": "markdown",
      "source": [
        "Run without changes\n",
        "\n",
        "\n",
        "\n"
      ],
      "metadata": {
        "id": "RcvTERH6zPFt"
      }
    },
    {
      "cell_type": "code",
      "source": [
        "# This function computes a single film matrix\n",
        "# s-polarization\n",
        "\n",
        "def single_film_matrix_s(n, d, lambda_o, phi):\n",
        "# n - refraction index of the layer\n",
        "# d - thickness of the layer, expressed as a fraction of the refernece wavelength\n",
        "# lambda_o - wavelength of the incident light\n",
        "# phi - propagation angle (in degrees)\n",
        "\n",
        "    phi = math.radians(phi)    # Conversion to radians\n",
        "    k_0 = 2*np.pi/lambda_o     # Wave number: k=2*pi/wavelength\n",
        "    optical_path=n*d*lambda_o  # Optical path = n * geometrical distance, where geometrical distnace = d * wavelength\n",
        "\n",
        "    # Calculation of the matrix elements:\n",
        "    # Formulas are from: Stenzel, O. Optical Coatings, vol. 54 (2014)\n",
        "    m_11 = np.around(np.cos(k_0*optical_path*np.cos(phi)), decimals=5)\n",
        "    m_12 = - 1j /(n * np.cos(phi))* np.around(np.sin(k_0*optical_path*np.cos(phi)), decimals=5)\n",
        "    m_21 = - 1j * n * np.cos(phi) * np.around(np.sin(k_0*optical_path*np.cos(phi)), decimals=5)\n",
        "    m_22 = np.around(np.cos(k_0*optical_path*np.cos(phi)), decimals=5)\n",
        "\n",
        "    # Assign the calculated values to the matrix elements\n",
        "    matrix=np.empty((2, 2), dtype=object)\n",
        "    matrix[0, 0] = m_11\n",
        "    matrix[0, 1] = m_12\n",
        "    matrix[1, 0] = m_21\n",
        "    matrix[1, 1] = m_22\n",
        "    return matrix\n",
        "\n",
        "\n",
        "# This function computes a single film matrix\n",
        "# p-polarization\n",
        "\n",
        "def single_film_matrix_p(n, d, lambda_o, phi):\n",
        "# n - refraction index of the layer\n",
        "# d - thickness of the layer, expressed as a fraction of the refernece wavelength\n",
        "# lambda_o -  wavelength of the incident light\n",
        "# phi - propagation angle (in degrees)\n",
        "\n",
        "    phi = math.radians(phi)    # Conversion to radians\n",
        "    k_0 = 2*np.pi/lambda_o     # Wave number: k=2*pi/wavelength\n",
        "    optical_path=n*d*lambda_o  # Optical path = n * geometrical distance, where geometrical distnace = d * wavelength\n",
        "\n",
        "    # Calculation of the matrix elements:\n",
        "    # Formulas are from: Stenzel, O. Optical Coatings, vol. 54 (2014)\n",
        "    m_11 = np.around(np.cos(k_0*optical_path*np.cos(phi)), decimals=5)\n",
        "    m_12 = - 1j * n /np.cos(phi)* np.around(np.sin(k_0*optical_path*np.cos(phi)), decimals=5)\n",
        "    m_21 = - 1j * np.cos(phi)/ n * np.around(np.sin(k_0*optical_path*np.cos(phi)), decimals=5)\n",
        "    m_22 = np.around(np.cos(k_0*optical_path*np.cos(phi)), decimals=5)\n",
        "\n",
        "    # Assign the calculated values to the matrix elements\n",
        "    matrix=np.empty((2, 2), dtype=object)\n",
        "    matrix[0, 0] = m_11\n",
        "    matrix[0, 1] = m_12\n",
        "    matrix[1, 0] = m_21\n",
        "    matrix[1, 1] = m_22\n",
        "    return matrix\n",
        "\n",
        "\n",
        "# This function computes reflection coefficient\n",
        "# s-polarization\n",
        "\n",
        "def reflection_coefficient_s(phi_1, phi_sub, n_1, n_sub, M):\n",
        "# phi_1 - propagation angle in the incidence medium\n",
        "# phi_sub - propagation angle in the substrate\n",
        "# n_1 - refraction index  of the incidence medium\n",
        "# n_sub - refraction index of the substrate material\n",
        "# M - coating matrix\n",
        "\n",
        "    angle1 = math.radians(phi_1)       # Conversion to radians\n",
        "    angle_sub = math.radians(phi_sub)  # Conversion to radians\n",
        "\n",
        "    # Matrix elements\n",
        "    m_11 = M[0, 0]\n",
        "    m_12 = M[0, 1]\n",
        "    m_21 = M[1, 0]\n",
        "    m_22 = M[1, 1]\n",
        "\n",
        "    # Calculation of the reflection coefficient:\n",
        "    # Formula is taken from: Stenzel, O. Optical Coatings, vol. 54 (2014)\n",
        "    r = ((m_11 + m_12 * n_sub * np.cos(phi_sub)) * n_1 * np.cos(phi_1) - (m_21 + m_22 * n_sub * np.cos(phi_sub)))/((m_11 + m_12 * n_sub * np.cos(phi_sub)) * n_1 * np.cos(phi_1) + m_21 + m_22 * n_sub * np.cos(phi_sub))\n",
        "\n",
        "    return r\n",
        "\n",
        "\n",
        "# This function computes reflection coefficient\n",
        "# p-polarization\n",
        "\n",
        "def reflection_coefficient_p(phi_1, phi_sub, n_1, n_sub, M):\n",
        "# phi_1 - propagation angle in the incidence medium\n",
        "# phi_sub - propagation angle in the substrate\n",
        "# n_1 - refraction index  of the incidence medium\n",
        "# n_sub - refraction index of the substrate material\n",
        "# M - coating matrix\n",
        "\n",
        "    angle1 = math.radians(phi_1)        # Conversion to radians\n",
        "    angle_sub = math.radians(phi_sub)   # Conversion to radians\n",
        "\n",
        "    # Matrix elements\n",
        "    m_11 = M[0, 0]\n",
        "    m_12 = M[0, 1]\n",
        "    m_21 = M[1, 0]\n",
        "    m_22 = M[1, 1]\n",
        "\n",
        "    # Calculation of the reflection coefficient:\n",
        "    # Formula is taken from: Stenzel, O. Optical Coatings, vol. 54 (2014)\n",
        "    r = ((m_11 + m_12 * np.cos(phi_sub)/n_sub) * np.cos(phi_1)/n_1 - (m_21 + m_22 * np.cos(phi_sub)/n_sub))/((m_11 + m_12 * np.cos(angle_sub)/n_sub) * np.cos(phi_1)/n_1 + m_21 + m_22 * np.cos(phi_sub)/n_sub)\n",
        "\n",
        "    return r\n",
        "\n",
        "\n",
        "# This function computes the M_stack matrix and reflection coefficient of the multilayer coating\n",
        "\n",
        "def stack(layers_dict, lambda_o, phi_1, phi_sub, n_1, n_sub, polarization):\n",
        "# layers_dict - dictionary that represent a stack of coating layers\n",
        "# lambda_o - wavelength of the incident light\n",
        "# phi_1 - propagation angle in the incidence medium\n",
        "# phi_sub - propagation angle in the substrate\n",
        "# n_1 - refraction index  of the incidence medium\n",
        "# n_sub - refraction index of the substrate material\n",
        "# polarization - polarization of the light wave ('s' or 'p')\n",
        "\n",
        "    M_stack = np.identity(2) # Initialization of the M_stack matrix. Identity matrix is chosen as the intial matrix, since multiplication by identity matrix does not change the mutliplied matrix.\n",
        "\n",
        "    # Iteration over the supplied layers_dict dictionary\n",
        "    for k, v in layers_dict.items():\n",
        "        refractive_index = v['refractive index']  # Select refractive index\n",
        "        thickness = v['thickness']                # Select thickness\n",
        "        angle = v['angle']                        # Select angle\n",
        "\n",
        "\n",
        "        # If input value is 's', compute s-polarization\n",
        "        if polarization == 's':\n",
        "           M = single_film_matrix_s(n = refractive_index, d = thickness, lambda_o = lambda_o, phi = angle)\n",
        "           M_stack = np.matmul(M_stack, M)  # Matric multiplication for the successive layers\n",
        "           r = reflection_coefficient_s(phi_1, phi_sub, n_1, n_sub, M_stack)\n",
        "\n",
        "        # If input value is 'p', compute p-polarization\n",
        "        if polarization == 'p':\n",
        "           M = single_film_matrix_p(n = refractive_index, d = thickness, lambda_o = lambda_o, phi = angle)\n",
        "           M_stack = np.matmul(M_stack, M)  # Matric multiplication for the successive layers\n",
        "           r = reflection_coefficient_p(phi_1, phi_sub, n_1, n_sub, M_stack)\n",
        "\n",
        "    return M_stack, r\n"
      ],
      "metadata": {
        "id": "KoRHL_opV9M6"
      },
      "execution_count": 18,
      "outputs": []
    },
    {
      "cell_type": "markdown",
      "source": [
        "\n",
        "*   Fill in the empty spaces in this cell. Namely, specify the parameter values and define the multilayer structure\n",
        "*   Run\n",
        "\n",
        "**Examples of the implementation are provided in the next cells.**"
      ],
      "metadata": {
        "id": "JLMlOomPiJq8"
      }
    },
    {
      "cell_type": "code",
      "source": [
        "# Input values\n",
        "angle_1 =       # Propagation angle in the incidence medium (usually air)\n",
        "angle_sub =     # Propagation angle in the substrate\n",
        "refraction_index_1 =      # Refraction index of the incidence medium (usually air)\n",
        "refraction_index_sub =   # Refraction index of the substrate material\n",
        "polarization = ' '     # Select the polarization by specifing the input as 's' or 'p'\n",
        "wavelength =     # Wavelength of the incident light\n",
        "\n",
        "# Define a stack of coating layers\n",
        "\n",
        "layers = {\n",
        "\n",
        "    'layer 1': {\n",
        "         'thickness': ,           # Thickness of the layer (expressed as a fraction of the wavelength!!!)\n",
        "         'refractive index': ,    # Refractive index of the layer\n",
        "         'angle': ,               # Propagation angle in the layer (in degrees)\n",
        "         },\n",
        "    'layer 2': {\n",
        "         'thickness': ,\n",
        "         'refractive index': ,\n",
        "         'angle': ,\n",
        "         },\n",
        "     'layer 3': {\n",
        "         'thickness': ,\n",
        "         'refractive index': ,\n",
        "         'angle': ,\n",
        "         }\n",
        "     ### ...........\n",
        "     ### ...........\n",
        "     ### ...........\n",
        "     }\n",
        "\n",
        "# Compute M_stack matrix and refraction coefficint of the multilayer structure\n",
        "M, r = stack(layers_dict = layers, lambda_o = wavelength, phi_1 = angle_1, phi_sub = angle_sub, n_1 = refraction_index_1, n_sub = refraction_index_sub, polarization = polarization)\n",
        "\n",
        "# Print the output\n",
        "print('Matrix, stack:')\n",
        "print(M)\n",
        "print('Reflection coefficient: ', r)"
      ],
      "metadata": {
        "id": "geqgfXW5hx5S"
      },
      "execution_count": null,
      "outputs": []
    },
    {
      "cell_type": "markdown",
      "source": [
        "## Example: 3 QW layers\n",
        "\n",
        "Polarization: s\n",
        "\n",
        "Structure: incidence medium|LHH|substrate"
      ],
      "metadata": {
        "id": "aQEoG-B3tdnC"
      }
    },
    {
      "cell_type": "code",
      "source": [
        "# Input values\n",
        "angle_1 = 0      # Propagation angle in the incidence medium (usually air)\n",
        "angle_sub = 0    # Propagation angle in the substrate\n",
        "refraction_index_1 = 1      # Refraction index of the incidence medium (usually air)\n",
        "refraction_index_sub = 1.2  # Refraction index of the substrate material\n",
        "polarization = 's'     # Select the polarization by specifing the input as 's' or 'p'\n",
        "wavelength = 800e-9    # Wavelength of the incident light\n",
        "\n",
        "# Define a stack of coating layers\n",
        "\n",
        "layers = {\n",
        "\n",
        "    'layer 1': {\n",
        "         'thickness': 0.125,       # Thickness of the layer (expressed as a fraction of the refernece wavelength)\n",
        "         'refractive index': 2,    # Refractive index of the layer\n",
        "         'angle': 0,               # Propagation angle in the layer (in degrees)\n",
        "         },\n",
        "    'layer 2': {\n",
        "         'thickness': 0.0625,\n",
        "         'refractive index': 4,\n",
        "         'angle': 0,\n",
        "         },\n",
        "     'layer 3': {\n",
        "         'thickness': 0.0625,\n",
        "         'refractive index': 4,\n",
        "         'angle': 0,\n",
        "         }\n",
        "     }\n",
        "\n",
        "# Compute M_stack matrix and refraction coefficint of the multilayer structure\n",
        "M, r = stack(layers_dict = layers, lambda_o = wavelength, phi_1 = angle_1, phi_sub = angle_sub, n_1 = refraction_index_1, n_sub = refraction_index_sub, polarization = polarization)\n",
        "\n",
        "# Print the output\n",
        "print('Matrix, stack:')\n",
        "print(M)\n",
        "print('Reflection coefficient: ', r)\n"
      ],
      "metadata": {
        "colab": {
          "base_uri": "https://localhost:8080/"
        },
        "id": "Y8ClfJ53ldAA",
        "outputId": "852fb533-f2c3-4717-eca9-0ff0095caf82"
      },
      "execution_count": 19,
      "outputs": [
        {
          "output_type": "stream",
          "name": "stdout",
          "text": [
            "Matrix, stack:\n",
            "[[0j 0.5j]\n",
            " [2j 0j]]\n",
            "Reflection coefficient:  (-0.5384615384615383-0j)\n"
          ]
        }
      ]
    },
    {
      "cell_type": "markdown",
      "source": [
        "## Example: 1 QW layer\n",
        "\n",
        "Polarization: p\n",
        "\n",
        "Structure: incidence medium|layer|substrate"
      ],
      "metadata": {
        "id": "1pC3VkOkwG_r"
      }
    },
    {
      "cell_type": "code",
      "source": [
        "# Input values\n",
        "angle_1 = 0     # Propagation angle in the incidence medium (usually air)\n",
        "angle_sub = 0   # Propagation angle in the substrate\n",
        "refraction_index_1 = 1      # Refraction index of the incidence medium (usually air)\n",
        "refraction_index_sub = 1.2  # Refraction index of the substrate material\n",
        "polarization = 'p'    # Select the polarization by specifing the input as 's' or 'p'\n",
        "wavelength = 800e-9   # Wavelength of the incident light\n",
        "\n",
        "# Define a stack of coating layers\n",
        "layers = {\n",
        "\n",
        "    'layer 1': {\n",
        "         'thickness': 0.125,      # Thickness of the layer (expressed as a fraction of the refernece wavelength)\n",
        "         'refractive index': 2,   # Refractive index of the layer\n",
        "         'angle': 0,              # Propagation angle in the layer (in degrees)\n",
        "         },\n",
        "    }\n",
        "\n",
        "# Compute M_stack matrix and refraction coefficint of the multilayer structure\n",
        "M, r = stack(layers_dict = layers, lambda_o = wavelength, phi_1 = angle_1, phi_sub = angle_sub, n_1 = refraction_index_1, n_sub = refraction_index_sub, polarization = polarization)\n",
        "\n",
        "# Print the output\n",
        "print('Matrix, stack:')\n",
        "print(M)\n",
        "print('Reflection coefficient: ', r)"
      ],
      "metadata": {
        "colab": {
          "base_uri": "https://localhost:8080/"
        },
        "id": "s9wD_99Rt2On",
        "outputId": "49611117-aae1-4c65-8347-2449b3f49015"
      },
      "execution_count": 20,
      "outputs": [
        {
          "output_type": "stream",
          "name": "stdout",
          "text": [
            "Matrix, stack:\n",
            "[[0j -2j]\n",
            " [-0.5j 0j]]\n",
            "Reflection coefficient:  (0.5384615384615384-0j)\n"
          ]
        }
      ]
    },
    {
      "cell_type": "markdown",
      "source": [
        "# Example: arbitrary thickness of layers\n",
        "\n",
        "Polarization: s\n",
        "\n",
        "Structure: incidence medium|layer_1, layer_2, layer_3, layer_4|substrate"
      ],
      "metadata": {
        "id": "bXEoh_BUZECx"
      }
    },
    {
      "cell_type": "code",
      "source": [
        "# Input values\n",
        "angle_1 = 0      # Propagation angle in the incidence medium (usually air)\n",
        "angle_sub = 0    # Propagation angle in the substrate\n",
        "refraction_index_1 = 1      # Refraction index of the incidence medium (usually air)\n",
        "refraction_index_sub = 1.2  # Refraction index of the substrate material\n",
        "polarization = 's'     # Select the polarization by specifing the input as 's' or 'p'\n",
        "wavelength = 800e-9    # Wavelength of the incident light\n",
        "\n",
        "# Define a stack of coating layers\n",
        "\n",
        "layers = {\n",
        "\n",
        "    'layer 1': {\n",
        "         'thickness': 0.1,         # Thickness of the layer (expressed as a fraction of the wavelength)\n",
        "         'refractive index': 2,    # Refractive index of the layer\n",
        "         'angle': 0,               # Propagation angle in the layer (in degrees)\n",
        "         },\n",
        "    'layer 2': {\n",
        "         'thickness': 0.25,\n",
        "         'refractive index': 4,\n",
        "         'angle': 0,\n",
        "         },\n",
        "     'layer 3': {\n",
        "         'thickness': 0.2,\n",
        "         'refractive index': 1.4,\n",
        "         'angle': 0,\n",
        "         },\n",
        "    'layer 4': {\n",
        "         'thickness': 0.4,\n",
        "         'refractive index': 1.1,\n",
        "         'angle': 0,\n",
        "         }\n",
        "     }\n",
        "\n",
        "# Compute M_stack matrix and refraction coefficint of the multilayer structure\n",
        "M, r = stack(layers_dict = layers, lambda_o = wavelength, phi_1 = angle_1, phi_sub = angle_sub, n_1 = refraction_index_1, n_sub = refraction_index_sub, polarization = polarization)\n",
        "\n",
        "# Print the output\n",
        "print('Matrix, stack:')\n",
        "print(M)\n",
        "print('Reflection coefficient: ', r)\n"
      ],
      "metadata": {
        "colab": {
          "base_uri": "https://localhost:8080/"
        },
        "id": "v8TM4kS7JF_A",
        "outputId": "4afa5503-af41-4e47-887f-cd8267a1728f"
      },
      "execution_count": 21,
      "outputs": [
        {
          "output_type": "stream",
          "name": "stdout",
          "text": [
            "Matrix, stack:\n",
            "[[(0.610153605612615-0j) 0.356972338684983j]\n",
            " [0.6276011528025014j (1.2717786422451092-0j)]]\n",
            "Reflection coefficient:  (-0.3816274253996555+0.09537664840256957j)\n"
          ]
        }
      ]
    }
  ]
}