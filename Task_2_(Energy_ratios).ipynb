{
  "nbformat": 4,
  "nbformat_minor": 0,
  "metadata": {
    "colab": {
      "provenance": [],
      "include_colab_link": true
    },
    "kernelspec": {
      "name": "python3",
      "display_name": "Python 3"
    }
  },
  "cells": [
    {
      "cell_type": "markdown",
      "metadata": {
        "id": "view-in-github",
        "colab_type": "text"
      },
      "source": [
        "<a href=\"https://colab.research.google.com/github/Evgeniya371/PRA3024/blob/main/Task_2_(Energy_ratios).ipynb\" target=\"_parent\"><img src=\"https://colab.research.google.com/assets/colab-badge.svg\" alt=\"Open In Colab\"/></a>"
      ]
    },
    {
      "cell_type": "markdown",
      "source": [
        "# <font color='green'> Task 2 (Energy distribution)"
      ],
      "metadata": {
        "id": "LJWN450lgSde"
      }
    },
    {
      "cell_type": "markdown",
      "source": [
        "###Run each cell below one by one"
      ],
      "metadata": {
        "id": "VeTCOCasjTAT"
      }
    },
    {
      "cell_type": "markdown",
      "source": [
        "Run without changes"
      ],
      "metadata": {
        "id": "7mKqbQ-_gTIe"
      }
    },
    {
      "cell_type": "code",
      "source": [
        "# This cell imports all important packages\n",
        "#!pip install streamlit_jupyter\n",
        "import math\n",
        "from scipy.special import jv, iv, jvp, ivp\n",
        "import matplotlib.pyplot as plt\n",
        "import numpy as np\n",
        "import pandas as pd\n",
        "import streamlit as st\n",
        "import matplotlib\n",
        "from mpl_toolkits import mplot3d\n",
        "from matplotlib import cm\n",
        "import scipy.integrate as integrate\n",
        "from scipy.integrate import dblquad"
      ],
      "metadata": {
        "id": "VHqKxAFBhOS1"
      },
      "execution_count": null,
      "outputs": []
    },
    {
      "cell_type": "markdown",
      "source": [
        "Run without changes"
      ],
      "metadata": {
        "id": "4Fj4kNUDgU6V"
      }
    },
    {
      "cell_type": "code",
      "source": [
        "# References:\n",
        "# https://math.libretexts.org/Under_Construction/Numerical_Methods_with_Applications_(Kaw)/3%3A_Nonlinear_Equations/3.03%3A_Bisection_Methods_for_Solving_a_Nonlinear_Equation\n",
        "# https://pythonnumericalmethods.berkeley.edu/notebooks/chapter19.03-Bisection-Method.html\n",
        "\n",
        "def bisection_algorithm(f, x_l, x_u, tolerance, it_num, iter=None):\n",
        "\n",
        "  # f - function\n",
        "  # x_l, x_u are initial guesses (lower bound and upper bound respectively)\n",
        "  # tolerance - percent relative error tolerance specified by user\n",
        "  # it_num - maximum numer of iterations allowed (it is introduced to prevent infinite loops)\n",
        "  # iter - iteration counter\n",
        "\n",
        "    if iter is None:\n",
        "        iter = 0\n",
        "\n",
        "\n",
        "  # Check if the upper and lower bounds are roots themselves:\n",
        "    if f(x_l) == 0:\n",
        "        return x_l, iter\n",
        "    if f(x_u) == 0:\n",
        "        return x_u, iter\n",
        "\n",
        "\n",
        "  # Check if root is bracketed:\n",
        "    if f(x_l)*f(x_u)>0:\n",
        "        #raise Exception(\"The function does not change sign. No root between x_l and x_u!\")\n",
        "        return None, iter\n",
        "\n",
        "\n",
        "  # Find a mid-point (estimate of the root):\n",
        "    x_m = (x_l + x_u)/2\n",
        "\n",
        "\n",
        "  # Check the following:\n",
        "\n",
        "    if f(x_l)*f(x_m)==0:\n",
        "    # The root x_m is found. Terminate the algorithm and report the root.\n",
        "       return x_m, iter\n",
        "\n",
        "\n",
        "    if f(x_l)*f(x_m)<0:\n",
        "    # The root lies between x_l and x_u, it follows that x_l = x_l and x_u = x_m\n",
        "      x_l = x_l\n",
        "      x_u = x_m\n",
        "\n",
        "\n",
        "    if f(x_l)*f(x_m)>0:\n",
        "    # The root lies between x_m and x_u, it follows that x_l = x_m and x_u = x_u\n",
        "      x_l = x_m\n",
        "      x_u = x_u\n",
        "\n",
        "\n",
        "   # Update the mid-point:\n",
        "    x_m_old=x_m\n",
        "    x_m = (x_l + x_u)/2\n",
        "\n",
        "\n",
        "   # Find the absolute realtive approximate error eps_abs\n",
        "   # Formula for eps_abs  is |e_a|=|x_m_new-x_m_old)/x_m_new|*100%\n",
        "    eps_abs=abs((x_m-x_m_old)/x_m)*100\n",
        "\n",
        "    if eps_abs>tolerance:\n",
        "     # Aplly the recursive method\n",
        "      iter += 1\n",
        "      return bisection_algorithm(f, x_l, x_u, tolerance, it_num, iter=iter)\n",
        "    else:\n",
        "     # Accept the estimate of the root otherwise\n",
        "      return x_m, iter\n",
        "\n",
        "      # You can print the string shown below to see the number of iterations needed to find each root\n",
        "      #'Estimated root is %s. \\n Number of iterations is %s.'%(x_m, iter)"
      ],
      "metadata": {
        "id": "GDOk1sPd9WRc"
      },
      "execution_count": 5,
      "outputs": []
    },
    {
      "cell_type": "markdown",
      "source": [
        "Run without changes"
      ],
      "metadata": {
        "id": "QA34eABT6o3p"
      }
    },
    {
      "cell_type": "code",
      "source": [
        "\n",
        "def roots_bisection_method(f, a, b, tolerance, it_num, step):\n",
        "\n",
        "  # f - function\n",
        "  # a and b are the endpoints of the interval. Roots are searched within this interval.\n",
        "  # tolerance - percent relative error tolerance specified by user\n",
        "  # it_num - maximum numer of iterations allowed (it is introduced to prevent infinite loops)\n",
        "  # step - stepsize which is used to search for the roots. It breaks interval [a, b] into small intevals\n",
        "\n",
        "    roots=[] # This list stores all found roots\n",
        "\n",
        "    x_l=a\n",
        "    x_u=a+step\n",
        "    while x_l<b: # Go along the x axis and break it into small intervals of size 'step' until you reach endpoint b\n",
        "          root, iter=bisection_algorithm(f, x_l, x_u, tolerance, it_num)\n",
        "          roots.append(root)\n",
        "          x_l=x_u\n",
        "          x_u=x_l+step\n",
        "    roots=list(filter(lambda item: item is not None, roots)) # This line fileters 'None' values contained in the list roots\n",
        "\n",
        "    return roots"
      ],
      "metadata": {
        "id": "_m2THTQcgvqo"
      },
      "execution_count": 6,
      "outputs": []
    },
    {
      "cell_type": "markdown",
      "source": [
        "Run without changes"
      ],
      "metadata": {
        "id": "69US_ZtW665i"
      }
    },
    {
      "cell_type": "code",
      "source": [
        "\n",
        "# This function computes amplitude parameter  C_mn\n",
        "def C_mn(lambda_mn, poisson_ratio, n):\n",
        "    numerator=(lambda_mn**2)*jv(n, lambda_mn)+(1-poisson_ratio)*(lambda_mn*jvp(n, lambda_mn)-(n**2)*jv(n, lambda_mn))\n",
        "    denominator=(lambda_mn**2)*iv(n, lambda_mn)-(1-poisson_ratio)*(lambda_mn*ivp(n, lambda_mn)-(n**2)*iv(n, lambda_mn))\n",
        "    C_mn=numerator/denominator\n",
        "    return C_mn\n",
        "\n",
        "# This function computes frequency f_mn\n",
        "def frequency_mn(lambda_mn, poisson_ratio, E, h, rho, a):\n",
        "    D=E*(h**3)/(12*(1-poisson_ratio**2)) # D is flexural rigidity\n",
        "    frequency_mn=(lambda_mn**2/(2*math.pi*a**2))*math.sqrt(D/(rho*h))\n",
        "    return frequency_mn\n",
        "\n",
        "# This function computes angular frequency omega_mn\n",
        "def angular_frequency_mn(lambda_mn, poisson_ratio, E, h, rho, a):\n",
        "    angular_frequency_mn=2*math.pi*frequency_mn(lambda_mn, poisson_ratio, E, h, rho, a)\n",
        "    return angular_frequency_mn\n",
        "\n",
        "# This function creates a list of eqully speced integers m\n",
        "# The user should specify up to which number the values m should be computed\n",
        "def m_list(m):\n",
        "    return [item for item in range(0, m+1)]\n",
        "\n",
        "# This function creates a list of eqully speced integers n\n",
        "# The user should specify up to which number the values n should be computed\n",
        "def n_list(n):\n",
        "    return [item for item in range(0, n+1)]\n",
        "\n",
        "\n"
      ],
      "metadata": {
        "id": "P8h-5t0yOH14"
      },
      "execution_count": 7,
      "outputs": []
    },
    {
      "cell_type": "markdown",
      "source": [
        "\n",
        "*   Run the cell below\n",
        "\n",
        "*   You may adjust the decimal places which are to be displayed in the tables. For this, set the desired number of decimal places in the following line:  \n",
        "s = df.style.format('{:.2f}.')\n",
        "\n",
        "\n",
        "\n"
      ],
      "metadata": {
        "id": "HhUjO2NEXiXk"
      }
    },
    {
      "cell_type": "code",
      "source": [
        "\n",
        "# This function creates a table of modes\n",
        "def table_lambda_m_n_values(n_num, m_num, poisson_ratio, a, b, tolerance, it_num, step):\n",
        "\n",
        "  # n - number of n modes to be computed (corresponds to a number of columns). Each n is number of nodal diameters\n",
        "  # m - number of m modes to be computed (corresponds to a number of rows). Each m is number of nodal circles\n",
        "  # poisson_ratio - poisson ratio\n",
        "  # the parameters listed below are related to the bisection method\n",
        "  # a and b are the endpoints of the interval. Roots are searched within this interval.\n",
        "  # tolerance - percent relative error tolerance specified by user\n",
        "  # it_num - maximum numer of iterations allowed (it is introduced to prevent infinite loops)\n",
        "  # step - stepsize which is used to search for the roots. It breaks interval [a, b] into small intevals\n",
        "\n",
        "    # These two lines create the lists of m and n values\n",
        "    m_values=m_list(m_num)\n",
        "    n_values=n_list(n_num)\n",
        "\n",
        "    # Create a dataframe for the table\n",
        "    df = pd.DataFrame(index=pd.Index(m_values, name='m'), columns=n_values)\n",
        "\n",
        "    # Create an array to store the value\n",
        "    lambda_array = np.empty((m_num+1, n_num+1), dtype=float)\n",
        "\n",
        "    # For loops find list of m valus for each n\n",
        "    for n in n_values:\n",
        "         # Function f is (4)-(5) (Amabili et al, p. 686)\n",
        "         func = lambda x, n, poisson_ratio: ((x ** 2) * jv(n, x) + (1 - poisson_ratio) * (x* jvp(n, x) - (n ** 2) * jv(n, x)))/((x ** 2) * iv(n, x) - (1 - poisson_ratio) * (x * ivp(n, x) - (n ** 2) * iv(n, x)))-((x ** 3) * jvp(n, x) + (n ** 2) * (1 - poisson_ratio) * (x* jvp(n, x) - jv(n, x)))/((x ** 3) * ivp(n, x) - (n ** 2) * (1 - poisson_ratio) * (x * ivp(n, x) - iv(n, x)))\n",
        "         f = lambda x: func(x, n, poisson_ratio)\n",
        "         roots = roots_bisection_method(f, a, b, tolerance, it_num, step)\n",
        "         if n>1:\n",
        "             roots=roots[1:]\n",
        "         if n==0 or n==1:\n",
        "             roots=[np.nan]+roots\n",
        "         for m in m_values:\n",
        "             lambda_array[m,n] = roots[m]              # Compute lambda\n",
        "             df.at[m, n] = roots[m]     # Compute lambda\n",
        "\n",
        "    file_name = \"output.xlsx\"\n",
        "    df.to_excel(file_name, sheet_name=f\"λ values\") # The reslut can be exported as Exel table\n",
        "\n",
        "    # Specify the decimal places to be displayed\n",
        "    s = df.style.format('{:.2f}')\n",
        "\n",
        "    cell_hover = {\n",
        "    'selector': 'td:hover',\n",
        "    'props': [('background-color', '#ffffb3')]\n",
        "    }\n",
        "\n",
        "    s.set_caption(\"λ values for n of:\")\\\n",
        "    .set_table_styles([{\n",
        "    'selector': 'caption',\n",
        "    'props': 'caption-side: top; font-size:1.7em;'\n",
        "    }], overwrite=False)\n",
        "\n",
        "    df = s.set_table_styles([cell_hover])\n",
        "\n",
        "\n",
        "    return s, lambda_array # First returened element is the table, second element is the array of lambda_mn values"
      ],
      "metadata": {
        "id": "EtygF7ajQuzF"
      },
      "execution_count": 8,
      "outputs": []
    },
    {
      "cell_type": "markdown",
      "source": [
        "\n",
        "\n",
        "\n",
        "*   You can adjust the value of the ampltidue parameter A in the following line:  \n",
        "A=0.1*C\n",
        "\n",
        "*   Run the cell\n",
        "\n",
        "\n",
        "\n",
        "\n"
      ],
      "metadata": {
        "id": "m5zvGPmwXqYB"
      }
    },
    {
      "cell_type": "code",
      "source": [
        "# This function computes elastic energy\n",
        "\n",
        "def elastic_energy(m, n, poisson_ratio, E, lambda_array, a, z_lower, z_upper):\n",
        "\n",
        "    # Comute the parameters values for the selected (m,n) mode\n",
        "    lambda_mn = lambda_array[m,n]\n",
        "    C = C_mn(lambda_mn, poisson_ratio, n)\n",
        "    A=0.00000001*C\n",
        "\n",
        "    # Factors (depend on material parameters)\n",
        "    C_1=E/(1 + poisson_ratio)      # Constant 1\n",
        "    C_2=1/(2*(1 - poisson_ratio))  # Constant 2\n",
        "    k=lambda_mn/a     # multiplication factor (constant)\n",
        "\n",
        "    # Terms as functions of parameters n, k, A, C, r, theta\n",
        "    pd_1 = lambda n, k, A, C, r, theta: A * np.cos(n*theta) * ((k**3) * (C*ivp(n+1, k*r)-jvp(n+1, k*r)) + (k**2) * (n/r) * (C*ivp(n, k*r)+jvp(n,k*r)) - k * (n/(r**2)) * (C*iv(n, k*r)+jv(n, k*r)))\n",
        "    pd_2 = lambda n, k, A, C, r, theta: A * np.cos(n*theta) * (1/r) * k * (C*ivp(n, k*r)+jvp(n, k*r))\n",
        "    pd_3 = lambda n, k, A, C, r, theta: - A * ((n/r)**2) * np.cos(n*theta) * (C*iv(n, k*r)+jv(n, k*r))\n",
        "    pd_4 = lambda n, k, A, C, r, theta: - A * n * np.sin(n*theta) * ((k/r) * (C*ivp(n, k*r)+jvp(n,k*r)) - 1/(r**2) * (C*iv(n, k*r) + jv(n, k*r)))\n",
        "\n",
        "    # The infinitesimal total elastic energy (Amato et al, 2022)\n",
        "    dE =  lambda z, r, theta: C_1*(C_2*(pd_1(n, k, A, C, r, theta)+pd_2(n, k, A, C, r, theta)+pd_3(n, k, A, C, r, theta))**2-(pd_1(n, k, A, C, r, theta)*(pd_2(n, k, A, C, r, theta)+pd_3(n, k, A, C, r, theta))-(pd_4(n, k, A, C, r, theta)**2)))*(z**2)*r\n",
        "\n",
        "    # Solve triple integral to find E elastic\n",
        "    # First integral is with respect to 'theta', second integral is with respect to radius 'r', third is with respect to 'z'\n",
        "    E=integrate.tplquad(dE, 0, 2*np.pi, 0, a, z_lower, z_upper)  # Cylindrical coordiates (the origin is in the center of the lowest surface of the cylinder)\n",
        "\n",
        "    return E[0]\n"
      ],
      "metadata": {
        "id": "7z5Lcx_JA-EQ"
      },
      "execution_count": 9,
      "outputs": []
    },
    {
      "cell_type": "markdown",
      "source": [
        "Specify how many modes should be computed in the cell below. Also set the parameters values there."
      ],
      "metadata": {
        "id": "HAA02R-BcZRS"
      }
    },
    {
      "cell_type": "code",
      "source": [
        "# Columns and rows\n",
        "n_num = 1    # the values of the table are computed up to this number of n\n",
        "m_num = 1   # the values of the table are computed up to this number of m\n",
        "\n",
        "# The values of parameters are found in: (Granata et al, 2020)\n",
        "\n",
        "# Substrate (fused silica):\n",
        "Y_s= 71.2*10**9           # substate's Young's modulus (Pa)\n",
        "poisson_ratio_s = 0.16    # substate's poisson ratio\n",
        "density_s = 2220          # substate's mass density (kg/m^3)\n",
        "\n",
        "# Coating (tantala):\n",
        "Y_c = 121*10**9           # coating's Young's modulus (Pa)\n",
        "poisson_ratio_c = 0.3     # coating's poisson ratio\n",
        "density_c = 7400          # coating's mass density (kg/m^3)\n",
        "\n",
        "# Geometry:\n",
        "radius = 50/2*10**(-3)  # radius of the plate (m)\n",
        "t_s = 1*10**(-3)        # thickness of the substrate (m)\n",
        "t_c = 1*10**(-6)        # thickness of the coating (m)\n",
        "t_tot = t_s+t_c         # thickness of the coated sample (m)"
      ],
      "metadata": {
        "id": "idM-dY-cjR85"
      },
      "execution_count": null,
      "outputs": []
    },
    {
      "cell_type": "markdown",
      "source": [
        "The next cell computes the frequency parameters, $\\lambda_{mn}$,  resonance frequencies, $f_{mn}$, elastic energies of the substrate, $E_{s}$, and coating, $E_{c}$, and the corresponding dilution factor, $D$. The output is presented in tables.\n",
        "\n",
        "* Run the cell\n",
        "* The tables will be displayed below, but you can also download them from the folder: open the folder, and download the 'output.xslx' file. The first spreadsheet of the 'output.xslx' stores the $λ_{mn}$ values for each corresponding mode $(m,n)$. Other spreadsheets contain the computed parameters\n"
      ],
      "metadata": {
        "id": "uRNAnrkazc0W"
      }
    },
    {
      "cell_type": "code",
      "source": [
        "tab, lambda_array = table_lambda_m_n_values(n_num = n_num, m_num = m_num, poisson_ratio = poisson_ratio_s, a = 0.1, b = 50, tolerance = 0.00001, it_num = 100, step = 1)\n",
        "\n",
        "m_values=m_list(m_num)\n",
        "n_values=n_list(n_num)\n",
        "\n",
        "# For loops find list of m valus for each n\n",
        "for m in m_values:\n",
        "\n",
        "        # Create a dataframe for the table\n",
        "        df = pd.DataFrame(index=n_values, columns=['m','n', 'f', 'E_s', 'E_c', 'E_tot', 'D'])\n",
        "\n",
        "\n",
        "        for n in n_values:\n",
        "\n",
        "           # Comute the parameters values for the selected (m,n) mode\n",
        "\n",
        "           if (m==0 and n==0) or (m==0 and n==1):\n",
        "              df.at[n, 'm'] = m\n",
        "              df.at[n, 'n'] = n\n",
        "              df.at[n, 'f'] = np.nan\n",
        "              df.at[n, 'E_s'] = np.nan\n",
        "              df.at[n, 'E_c'] = np.nan\n",
        "              df.at[n, 'E_tot'] = np.nan\n",
        "              df.at[n, 'D'] = np.nan\n",
        "\n",
        "           else:\n",
        "              # Compute substrate and coating contributions\n",
        "              E_s = elastic_energy(m = m, n = n, poisson_ratio = poisson_ratio_s, E = Y_s, lambda_array = lambda_array, a = radius, z_lower = 0, z_upper = t_s)\n",
        "              E_c = elastic_energy(m = m, n = n, poisson_ratio = poisson_ratio_c, E = Y_c, lambda_array = lambda_array, a = radius, z_lower = t_s , z_upper = t_tot)\n",
        "              # Compute total elastic energy\n",
        "              E_tot = E_s + E_c\n",
        "              # Frequency\n",
        "              frequency = frequency_mn(lambda_mn = lambda_array[m,n], poisson_ratio=poisson_ratio_s, E = Y_s, rho = density_s, h = t_s, a = radius)\n",
        "              # Dilution factor\n",
        "              D = E_c/E_tot\n",
        "\n",
        "              df.at[n, 'm'] = m\n",
        "              df.at[n, 'n'] = n\n",
        "              df.at[n, 'f'] = frequency\n",
        "              df.at[n, 'E_s'] = E_s\n",
        "              df.at[n, 'E_c'] = E_c\n",
        "              df.at[n, 'E_tot'] = E_tot\n",
        "              df.at[n, 'D'] = D\n",
        "\n",
        "\n",
        "        # Formating of the tables:\n",
        "\n",
        "        s=df.style.hide(axis='index')\n",
        "\n",
        "        cell_hover = {\n",
        "        'selector': 'td:hover',\n",
        "        'props': [('background-color', '#ffffb3')]\n",
        "        }\n",
        "\n",
        "        s.set_caption(f\"m = {m}\")\\\n",
        "        .set_table_styles([{\n",
        "        'selector': 'caption',\n",
        "        'props': 'caption-side: top; font-size:1.7em;'\n",
        "        }], overwrite=False)\n",
        "\n",
        "        s.set_table_styles([cell_hover])\n",
        "\n",
        "        # The computed tables are streamed into the \"output.xlsx\" file\n",
        "        file_name = \"output.xlsx\"\n",
        "        with pd.ExcelWriter(file_name, mode='a') as writer:\n",
        "              df.to_excel(writer, sheet_name=f\"m = {m}\")\n",
        "\n",
        "        # Display the tables\n",
        "        display(s)"
      ],
      "metadata": {
        "id": "cUs-lh697-nt"
      },
      "execution_count": null,
      "outputs": []
    }
  ]
}